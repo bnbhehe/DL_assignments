{
 "cells": [
  {
   "cell_type": "markdown",
   "metadata": {},
   "source": [
    "# Include Necessary Imports"
   ]
  },
  {
   "cell_type": "code",
   "execution_count": 1,
   "metadata": {
    "collapsed": false
   },
   "outputs": [],
   "source": [
    "require 'image';\n"
   ]
  },
  {
   "cell_type": "markdown",
   "metadata": {
    "collapsed": false
   },
   "source": [
    "# Define the Fibonacci Function"
   ]
  },
  {
   "cell_type": "code",
   "execution_count": 2,
   "metadata": {
    "collapsed": false
   },
   "outputs": [],
   "source": [
    "-- Fibonacci function\n",
    "function fib(n)\n",
    "    if(n<2) then return 1 end\n",
    "        return fib(n-2)+fib(n-1)\n",
    "end"
   ]
  },
  {
   "cell_type": "markdown",
   "metadata": {},
   "source": [
    "# Printing Function for Tensors"
   ]
  },
  {
   "cell_type": "code",
   "execution_count": 68,
   "metadata": {
    "collapsed": false
   },
   "outputs": [],
   "source": [
    "function myprint(t)\n",
    "    for i=1,t:size(1) do\n",
    "        for j=1,t:size(2) do\n",
    "            io.write(t[i][j],'\\t')\n",
    "        end\n",
    "        io.write('\\n')\n",
    "    end\n",
    "end\n",
    "function vecprint(t)\n",
    "    for i=1,t:size(1) do\n",
    "        io.write(t[i],'\\t')\n",
    "    end\n",
    "    io.write('\\n')\n",
    "end"
   ]
  },
  {
   "cell_type": "code",
   "execution_count": 69,
   "metadata": {
    "collapsed": false
   },
   "outputs": [
    {
     "data": {
      "text/plain": [
       "Primary Tensor:\n",
       "1\t2\t3\t5\t8\t\n",
       "13\t21\t34\t55\t89\t\n",
       "144\t233\t377\t610\t987\t\n",
       "\t\n",
       "Red sub-tensor:1\n",
       "\t\n",
       "Brown sub-tensor:144\t233\t377\t610\t987\t\n",
       "\t\n",
       "Green sub-tensor:2\t21\t233\t\n",
       "\t\n",
       "Blue sub-tensor:\n",
       "2\t3\t5\t\n",
       "21\t34\t55\t\n",
       "233\t377\t610\t\n"
      ]
     },
     "execution_count": 69,
     "metadata": {},
     "output_type": "execute_result"
    }
   ],
   "source": [
    "--Initialize tensor\n",
    "a = torch.Tensor(3,5)\n",
    "--Represent it as memory\n",
    "s = a:storage()\n",
    "for i=1,s:size() do -- fill up the Storage with the fib numbers\n",
    "s[i] = fib(i)\n",
    "end\n",
    "io.write('Primary Tensor:\\n')\n",
    "myprint(a) -- s is interpreted by a as a 2D matrix\n",
    "print('')\n",
    "redsub = a[{1,1}]\n",
    "io.write('Red sub-tensor:',redsub,'\\n')\n",
    "print('')\n",
    "brownsub = a[{{3}, {}}]\n",
    "\n",
    "io.write('Brown sub-tensor:')\n",
    "\n",
    "myprint(brownsub)\n",
    "print('')\n",
    "greensub = a[{{}, 2}]\n",
    "io.write('Green sub-tensor:')\n",
    "vecprint(greensub)\n",
    "print('')\n",
    "bluesub = a[{{}, {2,4}}] or a[{2, {2,4}}]\n",
    "io.write('Blue sub-tensor:\\n')\n",
    "myprint(bluesub)"
   ]
  },
  {
   "cell_type": "code",
   "execution_count": null,
   "metadata": {
    "collapsed": true
   },
   "outputs": [],
   "source": []
  },
  {
   "cell_type": "code",
   "execution_count": null,
   "metadata": {
    "collapsed": true
   },
   "outputs": [],
   "source": []
  }
 ],
 "metadata": {
  "kernelspec": {
   "display_name": "iTorch",
   "language": "lua",
   "name": "itorch"
  },
  "language_info": {
   "name": "lua",
   "version": "20100"
  }
 },
 "nbformat": 4,
 "nbformat_minor": 0
}
